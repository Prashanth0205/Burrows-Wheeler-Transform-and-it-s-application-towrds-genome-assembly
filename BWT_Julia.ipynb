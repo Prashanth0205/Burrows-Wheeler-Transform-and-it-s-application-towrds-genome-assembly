{
 "cells": [
  {
   "cell_type": "code",
   "execution_count": 1,
   "metadata": {},
   "outputs": [
    {
     "data": {
      "text/plain": [
       "gen_kmer (generic function with 1 method)"
      ]
     },
     "execution_count": 1,
     "metadata": {},
     "output_type": "execute_result"
    }
   ],
   "source": [
    "# Function returning kmers of a particular DNA sequence\n",
    "function gen_kmer(seq, k)\n",
    "    kmers = []\n",
    "    for i = 1:length(seq) - k + 1      # For the range lasting for number of kmers produced\n",
    "        km = seq[i : i+k - 1]          # Creating substrings from current position to current position + k\n",
    "        push!(kmers, km)               # Appending the kmers produced to the list\n",
    "    end\n",
    "    return kmers                       # Returning list of kmers\n",
    "end"
   ]
  },
  {
   "cell_type": "code",
   "execution_count": 2,
   "metadata": {},
   "outputs": [
    {
     "data": {
      "text/plain": [
       "bub_sort (generic function with 1 method)"
      ]
     },
     "execution_count": 2,
     "metadata": {},
     "output_type": "execute_result"
    }
   ],
   "source": [
    "# Performs sorting in lexicographic order\n",
    "function bub_sort(s)\n",
    "    seq = copy(s)                      \n",
    "    for i = 1:length(seq) - 1          \n",
    "        for j = 1:length(seq) - 1    \n",
    "            if seq[j] > seq[j+1]       \n",
    "                temp = seq[j]               \n",
    "                seq[j] = seq[j + 1]    \n",
    "                seq[j + 1] = temp \n",
    "            end\n",
    "        end\n",
    "    end\n",
    "    return seq                         \n",
    "end"
   ]
  },
  {
   "cell_type": "code",
   "execution_count": 3,
   "metadata": {},
   "outputs": [
    {
     "data": {
      "text/plain": [
       "rots (generic function with 1 method)"
      ]
     },
     "execution_count": 3,
     "metadata": {},
     "output_type": "execute_result"
    }
   ],
   "source": [
    "# Returns all possible rotations of a given string\n",
    "function rots(seq)\n",
    "    n = length(seq)\n",
    "    rotseq = []\n",
    "    s = seq                            # Creates the duplicate of the given string \n",
    "    for i = 1:n\n",
    "        s = string(s[2:n], s[1])       # Appends the last character with the rest of the string  \n",
    "        push!(rotseq, s)               # Stores the new string in the empty array\n",
    "    end\n",
    "    return rotseq                      # Returns the final array for all the possible rotations\n",
    "end "
   ]
  },
  {
   "cell_type": "code",
   "execution_count": 4,
   "metadata": {},
   "outputs": [
    {
     "data": {
      "text/plain": [
       "BWT (generic function with 1 method)"
      ]
     },
     "execution_count": 4,
     "metadata": {},
     "output_type": "execute_result"
    }
   ],
   "source": [
    "# Returns the Burrows-Wheeler tranform of a given string\n",
    "function BWT(lex)\n",
    "    st = \"\"                                     # Creating an empty string\n",
    "    for i = 1:length(lex)\n",
    "        st = string(st, lex[i][length(lex)])    # Appending the last character of the string to the empty array\n",
    "    end\n",
    "    return st\n",
    "end"
   ]
  },
  {
   "cell_type": "code",
   "execution_count": 5,
   "metadata": {},
   "outputs": [
    {
     "data": {
      "text/plain": [
       "str_match (generic function with 1 method)"
      ]
     },
     "execution_count": 5,
     "metadata": {},
     "output_type": "execute_result"
    }
   ],
   "source": [
    "# Returns the index of a particular string for a given array\n",
    "function str_match(sl, seq)                   \n",
    "    ind = 0\n",
    "    for i = 1:length(sl)\n",
    "        if sl[i] == seq              # When the given string matches a \n",
    "            ind = i                  # particular index of the given BWT matrix\n",
    "        end                         \n",
    "    end\n",
    "    return ind                       # Return the index\n",
    "end"
   ]
  },
  {
   "cell_type": "code",
   "execution_count": 6,
   "metadata": {},
   "outputs": [
    {
     "data": {
      "text/plain": [
       "BWT_mat (generic function with 1 method)"
      ]
     },
     "execution_count": 6,
     "metadata": {},
     "output_type": "execute_result"
    }
   ],
   "source": [
    "# Appends the last column (BWT) and order them lexicographically\n",
    "function BWT_mat(pl, seq)\n",
    "    n = length(pl)\n",
    "    apnd_seq = copy(seq)\n",
    "    for i = 1:n\n",
    "        ss = pl[i]\n",
    "        apnd_seq[i] = string(ss, apnd_seq[i]) \n",
    "    end\n",
    "    return apnd_seq\n",
    "end"
   ]
  },
  {
   "cell_type": "code",
   "execution_count": 7,
   "metadata": {},
   "outputs": [
    {
     "data": {
      "text/plain": [
       "inv_BWT (generic function with 1 method)"
      ]
     },
     "execution_count": 7,
     "metadata": {},
     "output_type": "execute_result"
    }
   ],
   "source": [
    "# Performs inverse Burrows-Wheeeler transform for a given BWT sequence\n",
    "function inv_BWT(bwt, ind)\n",
    "    null = fill(\"\", length(bwt))\n",
    "    fin = BWT_mat(bwt, null)\n",
    "    for i = 1:length(bwt) - 1\n",
    "        fin = BWT_mat(bwt, bub_sort(fin))\n",
    "    end\n",
    "    fin = bub_sort(fin)\n",
    "    return fin[ind]\n",
    "end"
   ]
  },
  {
   "cell_type": "code",
   "execution_count": 8,
   "metadata": {},
   "outputs": [
    {
     "data": {
      "text/plain": [
       "BWT_sufarr (generic function with 1 method)"
      ]
     },
     "execution_count": 8,
     "metadata": {},
     "output_type": "execute_result"
    }
   ],
   "source": [
    "# Using Suffix Arrays to implement Burrows-Wheeler Transform\n",
    "function BWT_sufarr(seq)\n",
    "    \"\"\"\n",
    "    Step 1\n",
    "    ----------------------------------------------------------------------\n",
    "         * Create an empty list and append all the posssible suffixes \n",
    "           by gradually increasing the size of the suffixes from 1 to\n",
    "           length of the given input string and arranges the produced array\n",
    "           in Lexicographic order.\n",
    "    ----------------------------------------------------------------------\n",
    "    \"\"\"\n",
    "    n = 1\n",
    "    suffix = []\n",
    "    for i = 1:length(seq)\n",
    "        push!(suffix,seq[n:length(seq)])\n",
    "        n += 1\n",
    "    end\n",
    "    suffix_nw = bub_sort(suffix)\n",
    "    \n",
    "    \"\"\"\n",
    "    Step 2\n",
    "    ---------------------------------------------------------------------\n",
    "        * Compare the new sorted suffixes with the unsorted suffixes\n",
    "          and store the index of successive smallest suffixes occuring\n",
    "          into a new array thereby creating a suffix array.\n",
    "    ---------------------------------------------------------------------\n",
    "    \"\"\"\n",
    "    sufx_arr = []\n",
    "    for i = 1:length(suffix_nw)\n",
    "        push!(sufx_arr, str_match(suffix, suffix_nw[i]))\n",
    "    end\n",
    "    \n",
    "    \"\"\"\n",
    "    Step 3\n",
    "    -------------------------------------------------------------------------\n",
    "        * We then go to the character of the original string, pointed by \n",
    "          the index present in the suffix array and move one sport to the\n",
    "          left and then store those in am empty string. At last we have the\n",
    "          BWT sequence.\n",
    "    -------------------------------------------------------------------------\n",
    "    \"\"\"\n",
    "    bwt = \"\"\n",
    "    for i = 1:length(sufx_arr)\n",
    "        index = sufx_arr[i] - 1 \n",
    "        if index == 0\n",
    "            bwt = string(bwt, seq[length(seq)])\n",
    "        else\n",
    "            bwt = string(bwt, seq[index])\n",
    "        end\n",
    "    end\n",
    "    return bwt\n",
    "end"
   ]
  },
  {
   "cell_type": "code",
   "execution_count": 9,
   "metadata": {},
   "outputs": [
    {
     "name": "stdout",
     "output_type": "stream",
     "text": [
      "The BWT result of BANANA1 using Suffix Arrays is ANNB1AA\n",
      "Run time of the BWT suffix algorithm is:  0.209033 seconds (99.28 k allocations: 4.935 MiB)\n"
     ]
    }
   ],
   "source": [
    "seq = \"BANANA1\"\n",
    "@time begin\n",
    "    seq1 = BWT_sufarr(seq)\n",
    "    print(\"The BWT result of $seq using Suffix Arrays is \", seq1)\n",
    "    print(\"\\nRun time of the BWT suffix algorithm is:\")\n",
    "end"
   ]
  },
  {
   "cell_type": "code",
   "execution_count": 10,
   "metadata": {},
   "outputs": [
    {
     "data": {
      "text/plain": [
       "comp (generic function with 1 method)"
      ]
     },
     "execution_count": 10,
     "metadata": {},
     "output_type": "execute_result"
    }
   ],
   "source": [
    "function comp(str)\n",
    "    c_str = \"\"\n",
    "    i = 1\n",
    "    while (i <= length(str))\n",
    "        count = 1\n",
    "        ch = str[i]\n",
    "        j = i\n",
    "        while (j < length(str))\n",
    "            if (str[j] == str[j + 1])\n",
    "                count = count + 1\n",
    "                j = j + 1\n",
    "            else\n",
    "                break\n",
    "            end\n",
    "        end\n",
    "        c_str = string(c_str, ch, count)\n",
    "        i = j + 1\n",
    "    end\n",
    "    return c_str\n",
    "end"
   ]
  },
  {
   "cell_type": "code",
   "execution_count": 11,
   "metadata": {},
   "outputs": [
    {
     "data": {
      "text/plain": [
       "decomp (generic function with 1 method)"
      ]
     },
     "execution_count": 11,
     "metadata": {},
     "output_type": "execute_result"
    }
   ],
   "source": [
    "function decomp(c)\n",
    "    dcomp = \"\"\n",
    "    s = \"\"\n",
    "    for i = 1:length(c)\n",
    "        if tryparse(Float64, string(c[i])) != nothing\n",
    "            n = parse(Int64, c[i])\n",
    "        for j = 1:n\n",
    "            s = string(s, c[i - 1])\n",
    "        end\n",
    "        end\n",
    "    end\n",
    "    dcomp = string(dcomp, s)\n",
    "    return dcomp\n",
    "end"
   ]
  },
  {
   "cell_type": "code",
   "execution_count": 12,
   "metadata": {},
   "outputs": [
    {
     "name": "stdout",
     "output_type": "stream",
     "text": [
      "Given input sequence is BANANA1\n",
      "Run time of the BWT algorithm is:  0.086891 seconds (68.34 k allocations: 3.476 MiB)\n",
      "\n",
      "Burrows-Wheeler Transform for the given sequence is ANNB1AA\n",
      "Inverse Burrows-Wheeler Transform for the given input is BANANA1\n",
      "The Genome sequences before performing BWT and after performing Inverse BWT are same"
     ]
    }
   ],
   "source": [
    "seq = \"BANANA1\"\n",
    "@time begin\n",
    "    mat = rots(seq)\n",
    "    print(\"Given input sequence is \", seq)\n",
    "    #print(\"\\nPossible rotations for the given sequence are \", mat)\n",
    "\n",
    "    lx = bub_sort(mat)\n",
    "    #print(\"\\nSorted array of these possible rotations are \", lx)\n",
    "\n",
    "    pr = BWT(lx)\n",
    "    print(\"\\nRun time of the BWT algorithm is:\")\n",
    "end\n",
    "print(\"\\nBurrows-Wheeler Transform for the given sequence is \", pr)\n",
    "\n",
    "index = str_match(lx, seq)\n",
    "fin_str = inv_BWT(pr, index)\n",
    "print(\"\\nInverse Burrows-Wheeler Transform for the given input is \", fin_str)\n",
    "(seq == fin_str) && print(\"\\nThe Genome sequences before performing BWT and after performing Inverse BWT are same\")"
   ]
  },
  {
   "cell_type": "code",
   "execution_count": 13,
   "metadata": {},
   "outputs": [
    {
     "data": {
      "text/plain": [
       "offset (generic function with 1 method)"
      ]
     },
     "execution_count": 13,
     "metadata": {},
     "output_type": "execute_result"
    }
   ],
   "source": [
    "# Returns the Offset for the given BWT\n",
    "function offset(seq1)\n",
    "    ofst = []\n",
    "    ar = collect(seq1)\n",
    "    sorted = join(bub_sort(ar))\n",
    "    for i = 1:length(seq1)\n",
    "        push!(ofst, findfirst(ar[i], sorted)[1])\n",
    "    end\n",
    "    return bub_sort(unique(ofst))\n",
    "end"
   ]
  },
  {
   "cell_type": "code",
   "execution_count": 14,
   "metadata": {},
   "outputs": [
    {
     "data": {
      "text/plain": [
       "FM_ind (generic function with 1 method)"
      ]
     },
     "execution_count": 14,
     "metadata": {},
     "output_type": "execute_result"
    }
   ],
   "source": [
    "# Return the FM index matrix for the given BWT\n",
    "function FM_ind(seq1)\n",
    "    count = 0\n",
    "    org = collect(seq1)\n",
    "    unq = bub_sort(unique(org))\n",
    "    fm_ind = zeros(Int8, length(org), length(unq))\n",
    "    for i = 1:length(unq)\n",
    "        for j = 1:length(org)\n",
    "            if unq[i] == org[j]\n",
    "                fm_ind[j,i] = count + 1\n",
    "                count += 1\n",
    "            else\n",
    "                fm_ind[j,i] = count\n",
    "            end\n",
    "        end\n",
    "        count = 0\n",
    "    end\n",
    "    return [zeros(Int8, 1, length(unq)); fm_ind]\n",
    "end"
   ]
  },
  {
   "cell_type": "code",
   "execution_count": 15,
   "metadata": {},
   "outputs": [
    {
     "data": {
      "text/plain": [
       "exct_mtch (generic function with 1 method)"
      ]
     },
     "execution_count": 15,
     "metadata": {},
     "output_type": "execute_result"
    }
   ],
   "source": [
    "function exct_mtch(p, seq1)\n",
    "    F = FM_ind(seq1)\n",
    "    O = offset(seq1)\n",
    "    lo = 1 \n",
    "    hi = size(FM_ind(seq1))[1]\n",
    "    idx = join(bub_sort(unique(collect(seq1))))\n",
    "    q = reverse(p)\n",
    "    for i = 1:length(q)\n",
    "        id = findfirst(q[i], idx)[1]\n",
    "        lo = O[id] + F[lo,id]\n",
    "        hi = O[id] + F[hi,id]\n",
    "    end\n",
    "    return [lo,hi]\n",
    "end"
   ]
  },
  {
   "cell_type": "code",
   "execution_count": 35,
   "metadata": {},
   "outputs": [
    {
     "name": "stdout",
     "output_type": "stream",
     "text": [
      "Offset for the sequence ANNB1AA is Any[1, 2, 5, 6]\n",
      "FM index matrix of the sequence ANNB1AA is\n",
      "8×4 Array{Int8,2}:\n",
      " 0  0  0  0\n",
      " 0  1  0  0\n",
      " 0  1  0  1\n",
      " 0  1  0  2\n",
      " 0  1  1  2\n",
      " 1  1  1  2\n",
      " 1  2  1  2\n",
      " 1  3  1  2\n",
      "The starting and ending index of the given pattern NA in the original string BANANA1 is [6, 8]"
     ]
    }
   ],
   "source": [
    "of = offset(seq1)\n",
    "print(\"Offset for the sequence $seq1 is $of\")\n",
    "\n",
    "fm = FM_ind(seq1)\n",
    "print(\"\\nFM index matrix of the sequence $seq1 is\\n\")\n",
    "show(stdout, \"text/plain\", fm)\n",
    "\n",
    "p = \"NA\" \n",
    "match = exct_mtch(p, seq1)\n",
    "print(\"\\nThe starting and ending index of the given pattern $p in the original string $seq is $match\")"
   ]
  },
  {
   "cell_type": "code",
   "execution_count": 39,
   "metadata": {},
   "outputs": [
    {
     "data": {
      "text/plain": [
       "2-element Array{Int64,1}:\n",
       " 6\n",
       " 6"
      ]
     },
     "execution_count": 39,
     "metadata": {},
     "output_type": "execute_result"
    }
   ],
   "source": [
    "match = exct_mtch(\"BA\", seq)"
   ]
  },
  {
   "cell_type": "code",
   "execution_count": 18,
   "metadata": {},
   "outputs": [
    {
     "data": {
      "text/plain": [
       "\"GGCATAGACTGGTGGTCCAGTCACATAACATCTTACCTATCGACCCCGGCCAGTTGATATCGTCTCAGTTGCTCCGAATAGCCTTTTAATCTGCCAGCGT\""
      ]
     },
     "execution_count": 18,
     "metadata": {},
     "output_type": "execute_result"
    }
   ],
   "source": [
    "# Randomly generating a 100 length DNA sequence and extracting kmers from it\n",
    "using Random\n",
    "a = randstring(\"ATGC\", 100)    # Random generation of a DNA sequence\n",
    "k = 10                         # k-mer length\n",
    "DNA = gen_kmer(a, k)           # Generating k-mers\n",
    "a"
   ]
  },
  {
   "cell_type": "code",
   "execution_count": 19,
   "metadata": {},
   "outputs": [
    {
     "name": "stdout",
     "output_type": "stream",
     "text": [
      "Given input Genome sequence is GGCATAGACTGGTGGTCCAGTCACATAACATCTTACCTATCGACCCCGGCCAGTTGATATCGTCTCAGTTGCTCCGAATAGCCTTTTAATCTGCCAGCGT\n",
      "\n",
      "Length of the given sequence is 100\n",
      "\n",
      "The list of kmers (k = 10) that we get from the given sequence are: Any[\"GGCATAGACT\", \"GCATAGACTG\", \"CATAGACTGG\", \"ATAGACTGGT\", \"TAGACTGGTG\", \"AGACTGGTGG\", \"GACTGGTGGT\", \"ACTGGTGGTC\", \"CTGGTGGTCC\", \"TGGTGGTCCA\", \"GGTGGTCCAG\", \"GTGGTCCAGT\", \"TGGTCCAGTC\", \"GGTCCAGTCA\", \"GTCCAGTCAC\", \"TCCAGTCACA\", \"CCAGTCACAT\", \"CAGTCACATA\", \"AGTCACATAA\", \"GTCACATAAC\", \"TCACATAACA\", \"CACATAACAT\", \"ACATAACATC\", \"CATAACATCT\", \"ATAACATCTT\", \"TAACATCTTA\", \"AACATCTTAC\", \"ACATCTTACC\", \"CATCTTACCT\", \"ATCTTACCTA\", \"TCTTACCTAT\", \"CTTACCTATC\", \"TTACCTATCG\", \"TACCTATCGA\", \"ACCTATCGAC\", \"CCTATCGACC\", \"CTATCGACCC\", \"TATCGACCCC\", \"ATCGACCCCG\", \"TCGACCCCGG\", \"CGACCCCGGC\", \"GACCCCGGCC\", \"ACCCCGGCCA\", \"CCCCGGCCAG\", \"CCCGGCCAGT\", \"CCGGCCAGTT\", \"CGGCCAGTTG\", \"GGCCAGTTGA\", \"GCCAGTTGAT\", \"CCAGTTGATA\", \"CAGTTGATAT\", \"AGTTGATATC\", \"GTTGATATCG\", \"TTGATATCGT\", \"TGATATCGTC\", \"GATATCGTCT\", \"ATATCGTCTC\", \"TATCGTCTCA\", \"ATCGTCTCAG\", \"TCGTCTCAGT\", \"CGTCTCAGTT\", \"GTCTCAGTTG\", \"TCTCAGTTGC\", \"CTCAGTTGCT\", \"TCAGTTGCTC\", \"CAGTTGCTCC\", \"AGTTGCTCCG\", \"GTTGCTCCGA\", \"TTGCTCCGAA\", \"TGCTCCGAAT\", \"GCTCCGAATA\", \"CTCCGAATAG\", \"TCCGAATAGC\", \"CCGAATAGCC\", \"CGAATAGCCT\", \"GAATAGCCTT\", \"AATAGCCTTT\", \"ATAGCCTTTT\", \"TAGCCTTTTA\", \"AGCCTTTTAA\", \"GCCTTTTAAT\", \"CCTTTTAATC\", \"CTTTTAATCT\", \"TTTTAATCTG\", \"TTTAATCTGC\", \"TTAATCTGCC\", \"TAATCTGCCA\", \"AATCTGCCAG\", \"ATCTGCCAGC\", \"TCTGCCAGCG\", \"CTGCCAGCGT\"]\n",
      "\n",
      "Run time of the BWT algorithm is:  0.089306 seconds (211.28 k allocations: 10.681 MiB)\n",
      "\n",
      "Burrows-Wheeler Transform for the set of given kmers are [\"GTCGAAGTAC\", \"GTCGAAGTAC\", \"GTCGAAGTAC\", \"GTTAATGAGC\", \"GTAATTGGCG\", \"GGAAGTTGGC\", \"GATTTGGGGC\", \"CTATTGGGGC\", \"TCCTTGGGGC\", \"CCTTTGGGGA\", \"CCTATGGGGG\", \"CCTTGTAGGG\", \"CCTTTGAGGC\", \"CCTCTAAGGG\", \"CCTCTAACGG\", \"CCCTCATAGA\", \"CCCTCATAGA\", \"TCCCTAAAAG\", \"TACACTAAAG\", \"TCACTAACAG\", \"TCACCTAAAA\", \"TCACCTAAAA\", \"TCACCTAAAA\", \"TACCTATACA\", \"TATCATATAC\", \"TATCATATAC\", \"CTACAATTAC\", \"CTCCAATTAC\", \"TCTACTTCAC\", \"TTAACTCTAC\", \"TTACTTCTCA\", \"TTATCCTCAC\", \"TTATCCTCAG\", \"TGTATCCACA\", \"GCTAATCCCA\", \"GTACCTCCCA\", \"GTACCTCCCA\", \"GTACCTCCCA\", \"GGACCTCCCA\", \"GACCTCCCGG\", \"GACGCCCCGC\", \"GACGCCCCGC\", \"CACGACCCGC\", \"CCGGCCCGAC\", \"CCGTCCGCAG\", \"CCGTCGCATG\", \"CCGGGTCATG\", \"GCCGTGAATG\", \"CGCGTTATAG\", \"TCGCATAATG\", \"CGTTTAAATG\", \"CGTTTAAATG\", \"GTTTCGAATG\", \"GTTTCAATTG\", \"GTTTTCAAGC\", \"GTTTTCAAGC\", \"CTTTTCACAG\", \"CTTTTCACAG\", \"CGTTTACCAG\", \"CTTTCACTGG\", \"CTTTCACTGG\", \"CTTTGACGTG\", \"CTTGTACCTG\", \"CTTGTACCTG\", \"CTTGTACCTG\", \"CCCTGTACTG\", \"GTCGCTACTG\", \"GTCGCTACTG\", \"GATCGCTCTA\", \"GATCGCTCTA\", \"GTATCGCAAC\", \"GTATCGCAAC\", \"GTATCGCAAC\", \"GTAGCCCCAA\", \"GTAGTCCAAC\", \"GTAGCTAATC\", \"TTAGCATATC\", \"TTGCAATTTC\", \"TTGCAATTTC\", \"TAAGCATTTC\", \"TAGCTTATTC\", \"TATCCTATTC\", \"TATTTACTTC\", \"TATTTACTTG\", \"TATGTTACTC\", \"TAGTCTTACC\", \"TCACGTTAAC\", \"GCACGTATAC\", \"CCCGGTATAC\", \"CCGGTTACGC\", \"CCGGTTACGC\"]\n",
      "\n",
      "Compressed output of BWT sequences of all the kmers are [\"G1T1C1G1A2G1T1A1C1\", \"G1T1C1G1A2G1T1A1C1\", \"G1T1C1G1A2G1T1A1C1\", \"G1T2A2T1G1A1G1C1\", \"G1T1A2T2G2C1G1\", \"G2A2G1T2G2C1\", \"G1A1T3G4C1\", \"C1T1A1T2G4C1\", \"T1C2T2G4C1\", \"C2T3G4A1\", \"C2T1A1T1G5\", \"C2T2G1T1A1G3\", \"C2T3G1A1G2C1\", \"C2T1C1T1A2G3\", \"C2T1C1T1A2C1G2\", \"C3T1C1A1T1A1G1A1\", \"C3T1C1A1T1A1G1A1\", \"T1C3T1A4G1\", \"T1A1C1A1C1T1A3G1\", \"T1C1A1C1T1A2C1A1G1\", \"T1C1A1C2T1A4\", \"T1C1A1C2T1A4\", \"T1C1A1C2T1A4\", \"T1A1C2T1A1T1A1C1A1\", \"T1A1T1C1A1T1A1T1A1C1\", \"T1A1T1C1A1T1A1T1A1C1\", \"C1T1A1C1A2T2A1C1\", \"C1T1C2A2T2A1C1\", \"T1C1T1A1C1T2C1A1C1\", \"T2A2C1T1C1T1A1C1\", \"T2A1C1T2C1T1C1A1\", \"T2A1T1C2T1C1A1C1\", \"T2A1T1C2T1C1A1G1\", \"T1G1T1A1T1C2A1C1A1\", \"G1C1T1A2T1C3A1\", \"G1T1A1C2T1C3A1\", \"G1T1A1C2T1C3A1\", \"G1T1A1C2T1C3A1\", \"G2A1C2T1C3A1\", \"G1A1C2T1C3G2\", \"G1A1C1G1C4G1C1\", \"G1A1C1G1C4G1C1\", \"C1A1C1G1A1C3G1C1\", \"C2G2C3G1A1C1\", \"C2G1T1C2G1C1A1G1\", \"C2G1T1C1G1C1A1T1G1\", \"C2G3T1C1A1T1G1\", \"G1C2G1T1G1A2T1G1\", \"C1G1C1G1T2A1T1A1G1\", \"T1C1G1C1A1T1A2T1G1\", \"C1G1T3A3T1G1\", \"C1G1T3A3T1G1\", \"G1T3C1G1A2T1G1\", \"G1T3C1A2T2G1\", \"G1T4C1A2G1C1\", \"G1T4C1A2G1C1\", \"C1T4C1A1C1A1G1\", \"C1T4C1A1C1A1G1\", \"C1G1T3A1C2A1G1\", \"C1T3C1A1C1T1G2\", \"C1T3C1A1C1T1G2\", \"C1T3G1A1C1G1T1G1\", \"C1T2G1T1A1C2T1G1\", \"C1T2G1T1A1C2T1G1\", \"C1T2G1T1A1C2T1G1\", \"C3T1G1T1A1C1T1G1\", \"G1T1C1G1C1T1A1C1T1G1\", \"G1T1C1G1C1T1A1C1T1G1\", \"G1A1T1C1G1C1T1C1T1A1\", \"G1A1T1C1G1C1T1C1T1A1\", \"G1T1A1T1C1G1C1A2C1\", \"G1T1A1T1C1G1C1A2C1\", \"G1T1A1T1C1G1C1A2C1\", \"G1T1A1G1C4A2\", \"G1T1A1G1T1C2A2C1\", \"G1T1A1G1C1T1A2T1C1\", \"T2A1G1C1A1T1A1T1C1\", \"T2G1C1A2T3C1\", \"T2G1C1A2T3C1\", \"T1A2G1C1A1T3C1\", \"T1A1G1C1T2A1T2C1\", \"T1A1T1C2T1A1T2C1\", \"T1A1T3A1C1T2C1\", \"T1A1T3A1C1T2G1\", \"T1A1T1G1T2A1C1T1C1\", \"T1A1G1T1C1T2A1C2\", \"T1C1A1C1G1T2A2C1\", \"G1C1A1C1G1T1A1T1A1C1\", \"C3G2T1A1T1A1C1\", \"C2G2T2A1C1G1C1\", \"C2G2T2A1C1G1C1\"]\n",
      "\n",
      "Decompressed output of all the compressed BWT sequences are [\"GTCGAAGTAC\", \"GTCGAAGTAC\", \"GTCGAAGTAC\", \"GTTAATGAGC\", \"GTAATTGGCG\", \"GGAAGTTGGC\", \"GATTTGGGGC\", \"CTATTGGGGC\", \"TCCTTGGGGC\", \"CCTTTGGGGA\", \"CCTATGGGGG\", \"CCTTGTAGGG\", \"CCTTTGAGGC\", \"CCTCTAAGGG\", \"CCTCTAACGG\", \"CCCTCATAGA\", \"CCCTCATAGA\", \"TCCCTAAAAG\", \"TACACTAAAG\", \"TCACTAACAG\", \"TCACCTAAAA\", \"TCACCTAAAA\", \"TCACCTAAAA\", \"TACCTATACA\", \"TATCATATAC\", \"TATCATATAC\", \"CTACAATTAC\", \"CTCCAATTAC\", \"TCTACTTCAC\", \"TTAACTCTAC\", \"TTACTTCTCA\", \"TTATCCTCAC\", \"TTATCCTCAG\", \"TGTATCCACA\", \"GCTAATCCCA\", \"GTACCTCCCA\", \"GTACCTCCCA\", \"GTACCTCCCA\", \"GGACCTCCCA\", \"GACCTCCCGG\", \"GACGCCCCGC\", \"GACGCCCCGC\", \"CACGACCCGC\", \"CCGGCCCGAC\", \"CCGTCCGCAG\", \"CCGTCGCATG\", \"CCGGGTCATG\", \"GCCGTGAATG\", \"CGCGTTATAG\", \"TCGCATAATG\", \"CGTTTAAATG\", \"CGTTTAAATG\", \"GTTTCGAATG\", \"GTTTCAATTG\", \"GTTTTCAAGC\", \"GTTTTCAAGC\", \"CTTTTCACAG\", \"CTTTTCACAG\", \"CGTTTACCAG\", \"CTTTCACTGG\", \"CTTTCACTGG\", \"CTTTGACGTG\", \"CTTGTACCTG\", \"CTTGTACCTG\", \"CTTGTACCTG\", \"CCCTGTACTG\", \"GTCGCTACTG\", \"GTCGCTACTG\", \"GATCGCTCTA\", \"GATCGCTCTA\", \"GTATCGCAAC\", \"GTATCGCAAC\", \"GTATCGCAAC\", \"GTAGCCCCAA\", \"GTAGTCCAAC\", \"GTAGCTAATC\", \"TTAGCATATC\", \"TTGCAATTTC\", \"TTGCAATTTC\", \"TAAGCATTTC\", \"TAGCTTATTC\", \"TATCCTATTC\", \"TATTTACTTC\", \"TATTTACTTG\", \"TATGTTACTC\", \"TAGTCTTACC\", \"TCACGTTAAC\", \"GCACGTATAC\", \"CCCGGTATAC\", \"CCGGTTACGC\", \"CCGGTTACGC\"]\n",
      "  0.067721 seconds (151.35 k allocations: 7.544 MiB)\n",
      "\n",
      "Inverse Burrows-Wheeler Transform for the given input of BWT sequences are [\"GGCATAGACT\", \"GCATAGACTG\", \"CATAGACTGG\", \"ATAGACTGGT\", \"TAGACTGGTG\", \"AGACTGGTGG\", \"GACTGGTGGT\", \"ACTGGTGGTC\", \"CTGGTGGTCC\", \"TGGTGGTCCA\", \"GGTGGTCCAG\", \"GTGGTCCAGT\", \"TGGTCCAGTC\", \"GGTCCAGTCA\", \"GTCCAGTCAC\", \"TCCAGTCACA\", \"CCAGTCACAT\", \"CAGTCACATA\", \"AGTCACATAA\", \"GTCACATAAC\", \"TCACATAACA\", \"CACATAACAT\", \"ACATAACATC\", \"CATAACATCT\", \"ATAACATCTT\", \"TAACATCTTA\", \"AACATCTTAC\", \"ACATCTTACC\", \"CATCTTACCT\", \"ATCTTACCTA\", \"TCTTACCTAT\", \"CTTACCTATC\", \"TTACCTATCG\", \"TACCTATCGA\", \"ACCTATCGAC\", \"CCTATCGACC\", \"CTATCGACCC\", \"TATCGACCCC\", \"ATCGACCCCG\", \"TCGACCCCGG\", \"CGACCCCGGC\", \"GACCCCGGCC\", \"ACCCCGGCCA\", \"CCCCGGCCAG\", \"CCCGGCCAGT\", \"CCGGCCAGTT\", \"CGGCCAGTTG\", \"GGCCAGTTGA\", \"GCCAGTTGAT\", \"CCAGTTGATA\", \"CAGTTGATAT\", \"AGTTGATATC\", \"GTTGATATCG\", \"TTGATATCGT\", \"TGATATCGTC\", \"GATATCGTCT\", \"ATATCGTCTC\", \"TATCGTCTCA\", \"ATCGTCTCAG\", \"TCGTCTCAGT\", \"CGTCTCAGTT\", \"GTCTCAGTTG\", \"TCTCAGTTGC\", \"CTCAGTTGCT\", \"TCAGTTGCTC\", \"CAGTTGCTCC\", \"AGTTGCTCCG\", \"GTTGCTCCGA\", \"TTGCTCCGAA\", \"TGCTCCGAAT\", \"GCTCCGAATA\", \"CTCCGAATAG\", \"TCCGAATAGC\", \"CCGAATAGCC\", \"CGAATAGCCT\", \"GAATAGCCTT\", \"AATAGCCTTT\", \"ATAGCCTTTT\", \"TAGCCTTTTA\", \"AGCCTTTTAA\", \"GCCTTTTAAT\", \"CCTTTTAATC\", \"CTTTTAATCT\", \"TTTTAATCTG\", \"TTTAATCTGC\", \"TTAATCTGCC\", \"TAATCTGCCA\", \"AATCTGCCAG\", \"ATCTGCCAGC\", \"TCTGCCAGCG\", \"CTGCCAGCGT\"]\n",
      "\n",
      "The Kmers before performing BWT and after performing Inverse BWT are same"
     ]
    }
   ],
   "source": [
    "print(\"Given input Genome sequence is $a\\n\")\n",
    "print(\"\\nLength of the given sequence is \", length(a), \"\\n\")\n",
    "\n",
    "print(\"\\nThe list of kmers (k = $k) that we get from the given sequence are: \", DNA, \"\\n\")\n",
    "\n",
    "@time begin\n",
    "    rot = [rots(DNA[i]) for i = 1:length(DNA)]\n",
    "    sorted = [bub_sort(rot[i]) for i = 1:length(rot)]\n",
    "    bw = [BWT(sorted[i]) for i = 1:length(sorted)]\n",
    "    print(\"\\nRun time of the BWT algorithm is:\")\n",
    "end\n",
    "\n",
    "print(\"\\nBurrows-Wheeler Transform for the set of given kmers are \", bw, \"\\n\")\n",
    "\n",
    "cp = [comp(bw[i]) for i = 1:length(bw)]\n",
    "print(\"\\nCompressed output of BWT sequences of all the kmers are \", cp, \"\\n\")\n",
    "\n",
    "dcp = [decomp(cp[i]) for i = 1:length(bw)]\n",
    "print(\"\\nDecompressed output of all the compressed BWT sequences are \", dcp, \"\\n\")\n",
    "\n",
    "@time begin\n",
    "    match = [str_match(sorted[i], DNA[i]) for i = 1:length(bw)]\n",
    "    inv = [inv_BWT(bw[i], match[i]) for i = 1:length(bw)]\n",
    "end\n",
    "print(\"\\nInverse Burrows-Wheeler Transform for the given input of BWT sequences are \", inv, \"\\n\")\n",
    "\n",
    "(inv == DNA) && print(\"\\nThe Kmers before performing BWT and after performing Inverse BWT are same\")"
   ]
  },
  {
   "cell_type": "code",
   "execution_count": 20,
   "metadata": {},
   "outputs": [
    {
     "name": "stdout",
     "output_type": "stream",
     "text": [
      "\n",
      "Run time of the BWT algorithm using suffix array approach is:  0.028613 seconds (69.76 k allocations: 3.602 MiB)\n",
      "\n",
      "Burrows-Wheeler Transform for the set of given kmers using suffix array approach are [\"GTCGAAGTCA\", \"GTCGATAGAC\", \"GTCGAGATAC\", \"GTTAATGGAC\", \"GTATATGGGC\", \"GGAGATTGGC\", \"GATTTGGGGC\", \"CTATTGGGGC\", \"CTCTTGGGGC\", \"CCTTTGGGGA\", \"CCTATGGGGG\", \"CCTTAGTGGG\", \"CTCTTAGGGC\", \"CCTCTAAGGG\", \"CCATCTACGG\", \"CCCATCTAGA\", \"CCCTCATAAG\", \"TCCCTAAAAG\", \"ATCACTAAAG\", \"TACCATACAG\", \"CTACCATAAA\", \"TACCCTAAAA\", \"TCACCTAAAA\", \"TACCTATCAA\", \"TATCATTAAC\", \"TTACATTAAC\", \"CTACAATTAC\", \"CTCCAATTAC\", \"TCTACTCTAC\", \"TTAACTCTAC\", \"TTACTATCTC\", \"TTTACCTCAC\", \"TTATCCTCAG\", \"GTTATCCACA\", \"GCTAATCCCA\", \"GTCACTCCCA\", \"GTCCATCCCA\", \"GTCCCATCCA\", \"GGACCCTCCA\", \"GACCTCGCCG\", \"GGACCCCCGC\", \"GCGACCCCGC\", \"CACGACCCGC\", \"CCGGCCCAGC\", \"CCGTCCGCAG\", \"CCGTCGCATG\", \"CCGGTGCATG\", \"GCCGTGAATG\", \"CGCGTTAATG\", \"TCGCATAATG\", \"CTGTTAAATG\", \"CGTTTAAATG\", \"GTTCTGAATG\", \"GTTTCGAATT\", \"GTTTTCAGAC\", \"GTTTTCCAAG\", \"CTTTTCACAG\", \"CTTTTCACAG\", \"CGTTTACCAG\", \"CTTTACGCTG\", \"CTTTCATCGG\", \"CTTTGACGTG\", \"CGTTTACCTG\", \"CTGTTACCTG\", \"CTTGTACCTG\", \"CCCTGTACTG\", \"GTCGCTACTG\", \"GTCGCTACTG\", \"AGTCGCTCTA\", \"GATCGCTACT\", \"TGATCGCAAC\", \"GTATCGACAC\", \"GTAGTCCAAC\", \"GTACGCCCAA\", \"GTAGTCCACA\", \"GTAGCTATAC\", \"TTAGCATATC\", \"TTGCATATTC\", \"TTGCATATTC\", \"ATAGCATTTC\", \"TAGCTATTTC\", \"TATCCTATTC\", \"TATTCTATTC\", \"TATTTACTTG\", \"TAGTTTACTC\", \"TACGTTTACC\", \"CTACGTTAAC\", \"GCACGTATAC\", \"CCGCGTATAC\", \"CCGGTCTAGC\", \"CCGGTTACGC\"]"
     ]
    }
   ],
   "source": [
    "@time begin\n",
    "    bw1 = [BWT_sufarr(DNA[i]) for i = 1:length(DNA)]\n",
    "    print(\"\\nRun time of the BWT algorithm using suffix array approach is:\")\n",
    "end\n",
    "print(\"\\nBurrows-Wheeler Transform for the set of given kmers using suffix array approach are \", bw1)"
   ]
  },
  {
   "cell_type": "code",
   "execution_count": 22,
   "metadata": {},
   "outputs": [
    {
     "data": {
      "text/plain": [
       "40×5 Array{Float64,2}:\n",
       " 0.0136439  0.121494   0.429656   0.00109431  0.410791\n",
       " 0.749706   0.916926   0.404826   0.570115    0.559206\n",
       " 0.391298   0.903084   0.726446   0.241023    0.513588\n",
       " 0.727176   0.32751    0.211949   0.795251    0.201668\n",
       " 0.470397   0.0779795  0.0539352  0.573416    0.315319\n",
       " 0.839373   0.819732   0.33745    0.928856    0.810221\n",
       " 0.135059   0.0274831  0.786552   0.756916    0.373203\n",
       " 0.719695   0.261514   0.978445   0.293468    0.0818716\n",
       " 0.210191   0.496803   0.578893   0.264677    0.181221\n",
       " 0.886348   0.473514   0.418513   0.386716    0.873227\n",
       " 0.175871   0.401301   0.454777   0.189774    0.502237\n",
       " 0.824807   0.0636796  0.670597   0.552806    0.809105\n",
       " 0.023616   0.565006   0.758697   0.530499    0.375115\n",
       " ⋮                                            \n",
       " 0.133603   0.816828   0.874101   0.0375901   0.0915989\n",
       " 0.176753   0.74944    0.36829    0.119969    0.102924\n",
       " 0.902753   0.805697   0.126425   0.904894    0.274449\n",
       " 0.658706   0.117031   0.329764   0.171313    0.0141313\n",
       " 0.848615   0.962578   0.67417    0.330035    0.160542\n",
       " 0.571714   0.64573    0.104582   0.868506    0.143545\n",
       " 0.171848   0.802695   0.77526    0.964375    0.0241421\n",
       " 0.852675   0.248895   0.202019   0.166027    0.756845\n",
       " 0.351156   0.291523   0.13125    0.832383    0.477011\n",
       " 0.17299    0.170125   0.394969   0.217352    0.582263\n",
       " 0.969086   0.226692   0.77271    0.0978256   0.828968\n",
       " 0.207168   0.263449   0.729037   0.652521    0.129054"
      ]
     },
     "metadata": {},
     "output_type": "display_data"
    }
   ],
   "source": [
    "display(\"text/plain\", rand(40, 5))"
   ]
  },
  {
   "cell_type": "code",
   "execution_count": null,
   "metadata": {},
   "outputs": [],
   "source": []
  }
 ],
 "metadata": {
  "kernelspec": {
   "display_name": "Julia 1.5.2",
   "language": "julia",
   "name": "julia-1.5"
  },
  "language_info": {
   "file_extension": ".jl",
   "mimetype": "application/julia",
   "name": "julia",
   "version": "1.5.2"
  }
 },
 "nbformat": 4,
 "nbformat_minor": 2
}
