{
 "cells": [
  {
   "cell_type": "code",
   "execution_count": 1,
   "metadata": {},
   "outputs": [],
   "source": [
    "//var seq = 'AGCAGCCC';\n",
    "var seq ='AGTTGTTAGTCTACGTGGACCGACAAGAACAGTTTCGAATCGGAAGCTTGCTTAACGTAGTTCTAACAGTTTTTTATTAGAGAGCAGATCTCTGATGAAC';\n",
    "//move to front transform by rotating string anti-clockwise\n",
    "function rotate_seq(seqnce){\n",
    "    console.time();\n",
    "    var rot_seq=[];\n",
    "    var N = seqnce.length;\n",
    "    var s = seqnce;                             // Creates the duplicate of the given string\n",
    "    for(var i=0;i<N;i++){\n",
    "        var s=s.substring(1)+s.substring(0,1);  // # Appends the last character with the rest of the string\n",
    "        rot_seq[i]=s;                           // Stores the new string in the empty array\n",
    "    }\n",
    "    console.timeEnd();\n",
    "    return rot_seq\n",
    "}"
   ]
  },
  {
   "cell_type": "code",
   "execution_count": 2,
   "metadata": {},
   "outputs": [
    {
     "name": "stdout",
     "output_type": "stream",
     "text": [
      "default: 30.725ms\n",
      "default: 0.025ms\n",
      "default: 0.010ms\n",
      "default: 0.008ms\n",
      "default: 0.009ms\n",
      "default: 0.021ms\n",
      "default: 0.009ms\n",
      "default: 0.015ms\n",
      "default: 0.016ms\n",
      "default: 0.017ms\n"
     ]
    },
    {
     "data": {
      "text/plain": [
       "[ [ 'GTTGTTAGTA',\n",
       "    'TTGTTAGTAG',\n",
       "    'TGTTAGTAGT',\n",
       "    'GTTAGTAGTT',\n",
       "    'TTAGTAGTTG',\n",
       "    'TAGTAGTTGT',\n",
       "    'AGTAGTTGTT',\n",
       "    'GTAGTTGTTA',\n",
       "    'TAGTTGTTAG',\n",
       "    'AGTTGTTAGT' ],\n",
       "  [ 'TACGTGGACC',\n",
       "    'ACGTGGACCT',\n",
       "    'CGTGGACCTA',\n",
       "    'GTGGACCTAC',\n",
       "    'TGGACCTACG',\n",
       "    'GGACCTACGT',\n",
       "    'GACCTACGTG',\n",
       "    'ACCTACGTGG',\n",
       "    'CCTACGTGGA',\n",
       "    'CTACGTGGAC' ],\n",
       "  [ 'GACAAGAACC',\n",
       "    'ACAAGAACCG',\n",
       "    'CAAGAACCGA',\n",
       "    'AAGAACCGAC',\n",
       "    'AGAACCGACA',\n",
       "    'GAACCGACAA',\n",
       "    'AACCGACAAG',\n",
       "    'ACCGACAAGA',\n",
       "    'CCGACAAGAA',\n",
       "    'CGACAAGAAC' ],\n",
       "  [ 'GTTTCGAATA',\n",
       "    'TTTCGAATAG',\n",
       "    'TTCGAATAGT',\n",
       "    'TCGAATAGTT',\n",
       "    'CGAATAGTTT',\n",
       "    'GAATAGTTTC',\n",
       "    'AATAGTTTCG',\n",
       "    'ATAGTTTCGA',\n",
       "    'TAGTTTCGAA',\n",
       "    'AGTTTCGAAT' ],\n",
       "  [ 'GGAAGCTTGC',\n",
       "    'GAAGCTTGCG',\n",
       "    'AAGCTTGCGG',\n",
       "    'AGCTTGCGGA',\n",
       "    'GCTTGCGGAA',\n",
       "    'CTTGCGGAAG',\n",
       "    'TTGCGGAAGC',\n",
       "    'TGCGGAAGCT',\n",
       "    'GCGGAAGCTT',\n",
       "    'CGGAAGCTTG' ],\n",
       "  [ 'TTAACGTAGC',\n",
       "    'TAACGTAGCT',\n",
       "    'AACGTAGCTT',\n",
       "    'ACGTAGCTTA',\n",
       "    'CGTAGCTTAA',\n",
       "    'GTAGCTTAAC',\n",
       "    'TAGCTTAACG',\n",
       "    'AGCTTAACGT',\n",
       "    'GCTTAACGTA',\n",
       "    'CTTAACGTAG' ],\n",
       "  [ 'TCTAACAGTT',\n",
       "    'CTAACAGTTT',\n",
       "    'TAACAGTTTC',\n",
       "    'AACAGTTTCT',\n",
       "    'ACAGTTTCTA',\n",
       "    'CAGTTTCTAA',\n",
       "    'AGTTTCTAAC',\n",
       "    'GTTTCTAACA',\n",
       "    'TTTCTAACAG',\n",
       "    'TTCTAACAGT' ],\n",
       "  [ 'TTTTATTAGT',\n",
       "    'TTTATTAGTT',\n",
       "    'TTATTAGTTT',\n",
       "    'TATTAGTTTT',\n",
       "    'ATTAGTTTTT',\n",
       "    'TTAGTTTTTA',\n",
       "    'TAGTTTTTAT',\n",
       "    'AGTTTTTATT',\n",
       "    'GTTTTTATTA',\n",
       "    'TTTTTATTAG' ],\n",
       "  [ 'GAGCAGATCA',\n",
       "    'AGCAGATCAG',\n",
       "    'GCAGATCAGA',\n",
       "    'CAGATCAGAG',\n",
       "    'AGATCAGAGC',\n",
       "    'GATCAGAGCA',\n",
       "    'ATCAGAGCAG',\n",
       "    'TCAGAGCAGA',\n",
       "    'CAGAGCAGAT',\n",
       "    'AGAGCAGATC' ],\n",
       "  [ 'CTGATGAACT',\n",
       "    'TGATGAACTC',\n",
       "    'GATGAACTCT',\n",
       "    'ATGAACTCTG',\n",
       "    'TGAACTCTGA',\n",
       "    'GAACTCTGAT',\n",
       "    'AACTCTGATG',\n",
       "    'ACTCTGATGA',\n",
       "    'CTCTGATGAA',\n",
       "    'TCTGATGAAC' ] ]"
      ]
     },
     "execution_count": 2,
     "metadata": {},
     "output_type": "execute_result"
    }
   ],
   "source": [
    "var k = 10;\n",
    "var rt_sq_list = [];\n",
    "for(var i = 0;i<k;i++){\n",
    "   rt_sq=rotate_seq(seq.substring(k*i,k*(i+1)))\n",
    "   rt_sq_list.push(rt_sq)\n",
    "}\n",
    "rt_sq_list"
   ]
  },
  {
   "cell_type": "code",
   "execution_count": 3,
   "metadata": {},
   "outputs": [],
   "source": [
    "//arrange sequence in lexicographic order using bubble sort algorithm\n",
    "function bub_sort(unsrt_sequence){\n",
    "    console.time();\n",
    "    var sequence =[...unsrt_sequence];\n",
    "    var temp;\n",
    "    for(var i=0;i<(sequence.length)-1;i++){\n",
    "      for(var j=0;j<(sequence.length)-i;j++){\n",
    "          \n",
    "          \"\"\"  If the value of the present character\n",
    "           \"\"\"      is greater than that of the next character\n",
    "            \"\"\"     then we perform a swap between those characters  \n",
    "          \n",
    "          if(sequence[j]>sequence[j+1]){\n",
    "             temp=sequence[j];\n",
    "             sequence[j]=sequence[j+1];\n",
    "             sequence[j+1]=temp;\n",
    "          }\n",
    "      }  \n",
    "    }\n",
    "    console.timeEnd();\n",
    "    return(sequence)\n",
    "}"
   ]
  },
  {
   "cell_type": "code",
   "execution_count": 4,
   "metadata": {},
   "outputs": [
    {
     "name": "stdout",
     "output_type": "stream",
     "text": [
      "default: 0.258ms\n",
      "default: 0.023ms\n",
      "default: 0.016ms\n",
      "default: 0.016ms\n",
      "default: 0.015ms\n",
      "default: 0.014ms\n",
      "default: 0.014ms\n",
      "default: 0.017ms\n",
      "default: 0.020ms\n",
      "default: 0.058ms\n"
     ]
    },
    {
     "data": {
      "text/plain": [
       "[ [ 'AGTAGTTGTT',\n",
       "    'AGTTGTTAGT',\n",
       "    'GTAGTTGTTA',\n",
       "    'GTTAGTAGTT',\n",
       "    'GTTGTTAGTA',\n",
       "    'TAGTAGTTGT',\n",
       "    'TAGTTGTTAG',\n",
       "    'TGTTAGTAGT',\n",
       "    'TTAGTAGTTG',\n",
       "    'TTGTTAGTAG' ],\n",
       "  [ 'ACCTACGTGG',\n",
       "    'ACGTGGACCT',\n",
       "    'CCTACGTGGA',\n",
       "    'CGTGGACCTA',\n",
       "    'CTACGTGGAC',\n",
       "    'GACCTACGTG',\n",
       "    'GGACCTACGT',\n",
       "    'GTGGACCTAC',\n",
       "    'TACGTGGACC',\n",
       "    'TGGACCTACG' ],\n",
       "  [ 'AACCGACAAG',\n",
       "    'AAGAACCGAC',\n",
       "    'ACAAGAACCG',\n",
       "    'ACCGACAAGA',\n",
       "    'AGAACCGACA',\n",
       "    'CAAGAACCGA',\n",
       "    'CCGACAAGAA',\n",
       "    'CGACAAGAAC',\n",
       "    'GAACCGACAA',\n",
       "    'GACAAGAACC' ],\n",
       "  [ 'AATAGTTTCG',\n",
       "    'AGTTTCGAAT',\n",
       "    'ATAGTTTCGA',\n",
       "    'CGAATAGTTT',\n",
       "    'GAATAGTTTC',\n",
       "    'GTTTCGAATA',\n",
       "    'TAGTTTCGAA',\n",
       "    'TCGAATAGTT',\n",
       "    'TTCGAATAGT',\n",
       "    'TTTCGAATAG' ],\n",
       "  [ 'AAGCTTGCGG',\n",
       "    'AGCTTGCGGA',\n",
       "    'CGGAAGCTTG',\n",
       "    'CTTGCGGAAG',\n",
       "    'GAAGCTTGCG',\n",
       "    'GCGGAAGCTT',\n",
       "    'GCTTGCGGAA',\n",
       "    'GGAAGCTTGC',\n",
       "    'TGCGGAAGCT',\n",
       "    'TTGCGGAAGC' ],\n",
       "  [ 'AACGTAGCTT',\n",
       "    'ACGTAGCTTA',\n",
       "    'AGCTTAACGT',\n",
       "    'CGTAGCTTAA',\n",
       "    'CTTAACGTAG',\n",
       "    'GCTTAACGTA',\n",
       "    'GTAGCTTAAC',\n",
       "    'TAACGTAGCT',\n",
       "    'TAGCTTAACG',\n",
       "    'TTAACGTAGC' ],\n",
       "  [ 'AACAGTTTCT',\n",
       "    'ACAGTTTCTA',\n",
       "    'AGTTTCTAAC',\n",
       "    'CAGTTTCTAA',\n",
       "    'CTAACAGTTT',\n",
       "    'GTTTCTAACA',\n",
       "    'TAACAGTTTC',\n",
       "    'TCTAACAGTT',\n",
       "    'TTCTAACAGT',\n",
       "    'TTTCTAACAG' ],\n",
       "  [ 'AGTTTTTATT',\n",
       "    'ATTAGTTTTT',\n",
       "    'GTTTTTATTA',\n",
       "    'TAGTTTTTAT',\n",
       "    'TATTAGTTTT',\n",
       "    'TTAGTTTTTA',\n",
       "    'TTATTAGTTT',\n",
       "    'TTTATTAGTT',\n",
       "    'TTTTATTAGT',\n",
       "    'TTTTTATTAG' ],\n",
       "  [ 'AGAGCAGATC',\n",
       "    'AGATCAGAGC',\n",
       "    'AGCAGATCAG',\n",
       "    'ATCAGAGCAG',\n",
       "    'CAGAGCAGAT',\n",
       "    'CAGATCAGAG',\n",
       "    'GAGCAGATCA',\n",
       "    'GATCAGAGCA',\n",
       "    'GCAGATCAGA',\n",
       "    'TCAGAGCAGA' ],\n",
       "  [ 'AACTCTGATG',\n",
       "    'ACTCTGATGA',\n",
       "    'ATGAACTCTG',\n",
       "    'CTCTGATGAA',\n",
       "    'CTGATGAACT',\n",
       "    'GAACTCTGAT',\n",
       "    'GATGAACTCT',\n",
       "    'TCTGATGAAC',\n",
       "    'TGAACTCTGA',\n",
       "    'TGATGAACTC' ] ]"
      ]
     },
     "execution_count": 4,
     "metadata": {},
     "output_type": "execute_result"
    }
   ],
   "source": [
    "var k = 10;\n",
    "var srt_sq_list = [];\n",
    "for(var i = 0;i<k;i++){\n",
    "   var srt_sq=bub_sort(rt_sq_list[i])\n",
    "    srt_sq_list.push(srt_sq) \n",
    "}\n",
    "srt_sq_list"
   ]
  },
  {
   "cell_type": "code",
   "execution_count": 5,
   "metadata": {},
   "outputs": [],
   "source": [
    "// the last column of BWT matrix is called Permutation string which has least entropy among all the sequences in BWT matrix\n",
    "function permutation_string(Lexseq){\n",
    "    console.time();\n",
    "    var srt_sq=[...Lexseq];\n",
    "    var st='';\n",
    "    for(var i=0;i<Lexseq.length;i++){\n",
    "        // Appending the last character of the string to the empty array\n",
    "        st = st + srt_sq[i].substring((srt_sq[i].length-1),srt_sq[i].length);\n",
    "        }\n",
    "    console.timeEnd();\n",
    "    return(st)\n",
    "    \n",
    "}"
   ]
  },
  {
   "cell_type": "code",
   "execution_count": 6,
   "metadata": {},
   "outputs": [
    {
     "name": "stdout",
     "output_type": "stream",
     "text": [
      "default: 0.063ms\n",
      "default: 0.019ms\n",
      "default: 0.012ms\n",
      "default: 0.012ms\n",
      "default: 0.011ms\n",
      "default: 0.012ms\n",
      "default: 0.012ms\n",
      "default: 0.012ms\n",
      "default: 0.012ms\n",
      "default: 0.011ms\n"
     ]
    },
    {
     "data": {
      "text/plain": [
       "[ 'TTATATGTGG',\n",
       "  'GTAACGTCCG',\n",
       "  'GCGAAAACAC',\n",
       "  'GTATCAATTG',\n",
       "  'GAGGGTACTC',\n",
       "  'TATAGACTGC',\n",
       "  'TACATACTTG',\n",
       "  'TTATTATTTG',\n",
       "  'CCGGTGAAAA',\n",
       "  'GAGATTTCAC' ]"
      ]
     },
     "execution_count": 6,
     "metadata": {},
     "output_type": "execute_result"
    }
   ],
   "source": [
    "var k = 10;\n",
    "var pmt_str_list = [];\n",
    "for(var i = 0;i<k;i++){\n",
    "    var pmt_str=permutation_string(srt_sq_list[i])\n",
    "    pmt_str_list.push(pmt_str)\n",
    "    \n",
    "}\n",
    "pmt_str_list"
   ]
  },
  {
   "cell_type": "code",
   "execution_count": 7,
   "metadata": {},
   "outputs": [],
   "source": [
    "//str_match function is used to get the index of the original string in BWT- matrix which later can be used for inverse BWT\n",
    "function str_match(seq_list,seqn){\n",
    "    console.time();\n",
    "    for(var i=0;i<seq_list.length;i++){\n",
    "        if(seq_list[i]==seqn){              // When the given string matches a particular index of the given BWT matrix\n",
    "            var strnum = i+1;\n",
    "        }\n",
    "    }\n",
    "    console.timeEnd();\n",
    "    return(strnum)\n",
    "}"
   ]
  },
  {
   "cell_type": "code",
   "execution_count": 8,
   "metadata": {},
   "outputs": [
    {
     "name": "stdout",
     "output_type": "stream",
     "text": [
      "default: 0.015ms\n",
      "default: 0.006ms\n",
      "default: 0.005ms\n",
      "default: 0.005ms\n",
      "default: 0.005ms\n",
      "default: 0.004ms\n",
      "default: 0.004ms\n",
      "default: 0.004ms\n",
      "default: 0.004ms\n",
      "default: 0.004ms\n"
     ]
    },
    {
     "data": {
      "text/plain": [
       "[ 2, 5, 8, 2, 3, 5, 9, 10, 1, 8 ]"
      ]
     },
     "execution_count": 8,
     "metadata": {},
     "output_type": "execute_result"
    }
   ],
   "source": [
    "var k = 10;\n",
    "var str_num_list = [];\n",
    "for(var i = 0;i<k;i++){\n",
    "    str_num=str_match(srt_sq_list[i],seq.substring(k*i,k*(i+1)))\n",
    "    str_num_list.push(str_num)\n",
    "}\n",
    "str_num_list"
   ]
  },
  {
   "cell_type": "code",
   "execution_count": 9,
   "metadata": {},
   "outputs": [],
   "source": [
    "//BWT_mtrx can be created by appending permutation string and rearranging it in lexicographic order continuosly\n",
    "function BWT_mtrx(pmtstr,apnd_seq){\n",
    "    console.time();\n",
    "    var N = pmtstr.length;\n",
    "    for(var i=0;i<N;i++){\n",
    "        ss = pmtstr.substring(i,i+1);\n",
    "        apnd_seq[i]=ss+apnd_seq[i]\n",
    "    }\n",
    "    console.timeEnd();\n",
    "    return(apnd_seq)\n",
    "}"
   ]
  },
  {
   "cell_type": "code",
   "execution_count": 10,
   "metadata": {},
   "outputs": [
    {
     "name": "stdout",
     "output_type": "stream",
     "text": [
      "default: 0.048ms\n",
      "default: 0.025ms\n",
      "default: 0.009ms\n",
      "default: 0.016ms\n",
      "default: 0.006ms\n",
      "default: 0.015ms\n",
      "default: 0.006ms\n",
      "default: 0.021ms\n",
      "default: 0.006ms\n"
     ]
    },
    {
     "data": {
      "text/plain": [
       "[ 'GACCTundefined',\n",
       "  'TACGTundefined',\n",
       "  'ACCTAundefined',\n",
       "  'ACGTGundefined',\n",
       "  'CCTACundefined',\n",
       "  'GGACCundefined',\n",
       "  'TGGACundefined',\n",
       "  'CGTGGundefined',\n",
       "  'CTACGundefined',\n",
       "  'GTGGAundefined' ]"
      ]
     },
     "execution_count": 10,
     "metadata": {},
     "output_type": "execute_result"
    }
   ],
   "source": [
    "fin=BWT_mtrx(pmt_str_list[1],[])\n",
    "fin1=BWT_mtrx(pmt_str_list[1],bub_sort(fin))\n",
    "fin2=BWT_mtrx(pmt_str_list[1],bub_sort(fin1))\n",
    "fin3=BWT_mtrx(pmt_str_list[1],bub_sort(fin2))\n",
    "fin4=BWT_mtrx(pmt_str_list[1],bub_sort(fin3))"
   ]
  },
  {
   "cell_type": "code",
   "execution_count": 11,
   "metadata": {},
   "outputs": [],
   "source": [
    "//using BWT matrix and the index we can get back the original genome sequence\n",
    "function inv_BWT(pmt_str,str_num){\n",
    "    console.time();\n",
    "    var fin=BWT_mtrx(pmt_str,[]);\n",
    "    for(var i=0;i<(pmt_str.length-1);i++){\n",
    "        var fin=BWT_mtrx(pmt_str,bub_sort(fin));\n",
    "    }\n",
    "    for(var j=0;j<pmt_str.length;j++){\n",
    "       fin[j] = fin[j].substring(0,pmt_str.length);\n",
    "    }\n",
    "    fin = bub_sort(fin)\n",
    "    console.timeEnd();\n",
    "    \n",
    "    return(fin[str_num])\n",
    "    \n",
    "}"
   ]
  },
  {
   "cell_type": "code",
   "execution_count": 12,
   "metadata": {},
   "outputs": [
    {
     "name": "stdout",
     "output_type": "stream",
     "text": [
      "default: 8.827ms\n",
      "default: 0.025ms\n",
      "default: 0.007ms\n",
      "default: 0.016ms\n",
      "default: 0.006ms\n",
      "default: 0.015ms\n",
      "default: 0.006ms\n",
      "default: 0.021ms\n",
      "default: 0.008ms\n",
      "default: 0.038ms\n",
      "default: 0.009ms\n",
      "default: 0.038ms\n",
      "default: 0.015ms\n",
      "default: 0.036ms\n",
      "default: 0.009ms\n",
      "default: 0.034ms\n",
      "default: 0.009ms\n",
      "default: 0.035ms\n",
      "default: 0.008ms\n",
      "default: 0.047ms\n",
      "default: 0.014ms\n",
      "default: 0.041ms\n",
      "default: 0.012ms\n",
      "default: 0.044ms\n",
      "default: 0.011ms\n",
      "default: 0.038ms\n",
      "default: 0.010ms\n",
      "default: 0.047ms\n",
      "default: 0.009ms\n",
      "default: 0.042ms\n",
      "default: 0.010ms\n",
      "default: 0.048ms\n",
      "default: 0.010ms\n",
      "default: 0.050ms\n",
      "default: 0.194ms\n",
      "default: 0.023ms\n",
      "default: 0.006ms\n",
      "default: 0.023ms\n",
      "default: 0.010ms\n",
      "default: 0.022ms\n",
      "default: 0.006ms\n",
      "default: 0.046ms\n",
      "default: 0.006ms\n",
      "default: 0.016ms\n",
      "default: 0.013ms\n",
      "default: 0.021ms\n",
      "default: 0.009ms\n",
      "default: 0.033ms\n",
      "default: 0.005ms\n",
      "default: 0.019ms\n",
      "default: 0.005ms\n",
      "default: 0.019ms\n",
      "default: 0.005ms\n",
      "default: 0.018ms\n",
      "default: 0.012ms\n",
      "default: 0.021ms\n",
      "default: 0.006ms\n",
      "default: 0.018ms\n",
      "default: 0.006ms\n",
      "default: 0.015ms\n",
      "default: 0.005ms\n",
      "default: 0.016ms\n",
      "default: 0.005ms\n",
      "default: 0.015ms\n",
      "default: 0.006ms\n",
      "default: 0.014ms\n",
      "default: 0.005ms\n",
      "default: 0.021ms\n",
      "default: 0.005ms\n",
      "default: 0.023ms\n",
      "default: 0.009ms\n",
      "default: 0.023ms\n",
      "default: 0.005ms\n",
      "default: 0.019ms\n",
      "default: 0.006ms\n",
      "default: 0.019ms\n",
      "default: 0.005ms\n",
      "default: 0.044ms\n",
      "default: 0.007ms\n",
      "default: 0.016ms\n",
      "default: 0.010ms\n",
      "default: 0.018ms\n",
      "default: 0.007ms\n",
      "default: 0.017ms\n",
      "default: 0.005ms\n",
      "default: 0.015ms\n",
      "default: 0.006ms\n",
      "default: 0.019ms\n",
      "default: 0.006ms\n",
      "default: 0.019ms\n",
      "default: 0.012ms\n",
      "default: 0.055ms\n",
      "default: 0.011ms\n",
      "default: 0.026ms\n",
      "default: 0.007ms\n",
      "default: 0.020ms\n",
      "default: 0.006ms\n",
      "default: 0.019ms\n",
      "default: 0.005ms\n",
      "default: 0.015ms\n",
      "default: 0.006ms\n",
      "default: 0.023ms\n",
      "default: 0.013ms\n",
      "default: 0.015ms\n",
      "default: 0.006ms\n",
      "default: 0.015ms\n",
      "default: 0.006ms\n",
      "default: 0.020ms\n",
      "default: 0.005ms\n",
      "default: 0.019ms\n",
      "default: 0.005ms\n",
      "default: 0.019ms\n",
      "default: 0.006ms\n",
      "default: 0.022ms\n",
      "default: 0.010ms\n",
      "default: 0.023ms\n",
      "default: 0.009ms\n",
      "default: 0.044ms\n",
      "default: 0.024ms\n",
      "default: 0.022ms\n",
      "default: 0.006ms\n",
      "default: 0.016ms\n",
      "default: 0.012ms\n",
      "default: 0.046ms\n",
      "default: 0.015ms\n",
      "default: 0.034ms\n",
      "default: 0.009ms\n",
      "default: 0.039ms\n",
      "default: 0.008ms\n",
      "default: 0.038ms\n",
      "default: 0.008ms\n",
      "default: 0.038ms\n",
      "default: 0.010ms\n",
      "default: 0.038ms\n",
      "default: 0.009ms\n",
      "default: 0.038ms\n",
      "default: 0.009ms\n",
      "default: 0.044ms\n",
      "default: 0.014ms\n",
      "default: 0.033ms\n",
      "default: 0.009ms\n",
      "default: 0.034ms\n",
      "default: 0.009ms\n",
      "default: 0.032ms\n",
      "default: 0.009ms\n",
      "default: 0.039ms\n",
      "default: 0.008ms\n",
      "default: 0.039ms\n",
      "default: 0.008ms\n",
      "default: 0.033ms\n",
      "default: 0.006ms\n",
      "default: 0.019ms\n",
      "default: 0.005ms\n",
      "default: 0.018ms\n",
      "default: 0.006ms\n",
      "default: 0.019ms\n",
      "default: 0.015ms\n",
      "default: 0.018ms\n",
      "default: 0.005ms\n",
      "default: 0.015ms\n",
      "default: 0.010ms\n",
      "default: 0.018ms\n",
      "default: 0.006ms\n",
      "default: 0.016ms\n",
      "default: 0.006ms\n",
      "default: 0.015ms\n",
      "default: 0.009ms\n",
      "default: 0.025ms\n",
      "default: 0.005ms\n",
      "default: 0.024ms\n",
      "default: 0.005ms\n",
      "default: 0.019ms\n",
      "default: 0.005ms\n",
      "default: 0.019ms\n",
      "default: 0.005ms\n",
      "default: 0.020ms\n",
      "default: 0.006ms\n",
      "default: 0.019ms\n",
      "default: 0.005ms\n",
      "default: 0.016ms\n",
      "default: 0.006ms\n",
      "default: 0.016ms\n",
      "default: 0.011ms\n",
      "default: 0.017ms\n",
      "default: 0.006ms\n",
      "default: 0.064ms\n",
      "default: 0.015ms\n",
      "default: 0.050ms\n",
      "default: 0.016ms\n",
      "default: 0.047ms\n",
      "default: 0.016ms\n",
      "default: 0.050ms\n",
      "default: 0.010ms\n",
      "default: 0.043ms\n",
      "default: 0.011ms\n",
      "default: 0.043ms\n",
      "default: 0.009ms\n",
      "default: 0.042ms\n",
      "default: 0.009ms\n",
      "default: 0.037ms\n"
     ]
    },
    {
     "data": {
      "text/plain": [
       "[ 'AGTTGTTAGT',\n",
       "  'CTACGTGGAC',\n",
       "  'CGACAAGAAC',\n",
       "  'AGTTTCGAAT',\n",
       "  'CGGAAGCTTG',\n",
       "  'CTTAACGTAG',\n",
       "  'TTCTAACAGT',\n",
       "  'TTTTTATTAG',\n",
       "  'AGAGCAGATC',\n",
       "  'TCTGATGAAC' ]"
      ]
     },
     "execution_count": 12,
     "metadata": {},
     "output_type": "execute_result"
    },
    {
     "name": "stderr",
     "output_type": "stream",
     "text": [
      "(node:116752) Warning: No such label 'default' for console.timeEnd()\n",
      "(node:116752) Warning: No such label 'default' for console.timeEnd()\n",
      "(node:116752) Warning: No such label 'default' for console.timeEnd()\n",
      "(node:116752) Warning: No such label 'default' for console.timeEnd()\n",
      "(node:116752) Warning: No such label 'default' for console.timeEnd()\n",
      "(node:116752) Warning: No such label 'default' for console.timeEnd()\n",
      "(node:116752) Warning: No such label 'default' for console.timeEnd()\n",
      "(node:116752) Warning: No such label 'default' for console.timeEnd()\n",
      "(node:116752) Warning: No such label 'default' for console.timeEnd()\n",
      "(node:116752) Warning: No such label 'default' for console.timeEnd()\n"
     ]
    }
   ],
   "source": [
    "var k = 10;\n",
    "var fin_str_list = [];\n",
    "for(var i = 0;i<k;i++){\n",
    "    fin_str=inv_BWT(pmt_str_list[i],str_num_list[i]-1)\n",
    "    fin_str_list.push(fin_str)\n",
    "}\n",
    "fin_str_list"
   ]
  },
  {
   "cell_type": "code",
   "execution_count": 13,
   "metadata": {},
   "outputs": [
    {
     "name": "stdout",
     "output_type": "stream",
     "text": [
      "default: 0.015ms\n"
     ]
    },
    {
     "data": {
      "text/plain": [
       "[ 'ANANA1B',\n",
       "  'NANA1BA',\n",
       "  'ANA1BAN',\n",
       "  'NA1BANA',\n",
       "  'A1BANAN',\n",
       "  '1BANANA',\n",
       "  'BANANA1' ]"
      ]
     },
     "execution_count": 13,
     "metadata": {},
     "output_type": "execute_result"
    }
   ],
   "source": [
    "var sq2='BANANA'\n",
    "var sp_char ='1'\n",
    "var sq2 = sq2+sp_char\n",
    "rt_sq2=rotate_seq(sq2)"
   ]
  },
  {
   "cell_type": "code",
   "execution_count": 14,
   "metadata": {},
   "outputs": [],
   "source": [
    "// BWT can be implemented in many ways one such way is suffix array where we map the original sequence indices with last column\n",
    "//and perform BWT operation\n",
    "function suffix_array(sqnce){\n",
    "    console.time();\n",
    "    var cln_sq = sqnce;\n",
    "    var N = cln_sq.length;\n",
    "    var sufx_arr = [];\n",
    "    var S = [];\n",
    "    for(var i =0;i<N;i++){\n",
    "        sufx_arr[i] = cln_sq.substring(i,cln_sq.length);       \n",
    "    }\n",
    "    sorted_sufx_arr = bub_sort(sufx_arr)\n",
    "    for(var k=0;k<sufx_arr.length;k++){\n",
    "        S[k]=str_match(sufx_arr,sorted_sufx_arr[k]);\n",
    "    }\n",
    "    console.timeEnd();\n",
    "    return(S)\n",
    "    }"
   ]
  },
  {
   "cell_type": "code",
   "execution_count": 15,
   "metadata": {},
   "outputs": [
    {
     "name": "stdout",
     "output_type": "stream",
     "text": [
      "default: 0.025ms\n",
      "default: 0.010ms\n",
      "default: 0.010ms\n",
      "default: 0.005ms\n",
      "default: 0.004ms\n",
      "default: 0.003ms\n",
      "default: 0.003ms\n",
      "default: 0.003ms\n"
     ]
    },
    {
     "data": {
      "text/plain": [
       "[ 7, 6, 4, 2, 1, 5, 3 ]"
      ]
     },
     "execution_count": 15,
     "metadata": {},
     "output_type": "execute_result"
    },
    {
     "name": "stderr",
     "output_type": "stream",
     "text": [
      "(node:116752) Warning: No such label 'default' for console.timeEnd()\n"
     ]
    }
   ],
   "source": [
    "sa = suffix_array(sq2)"
   ]
  },
  {
   "cell_type": "code",
   "execution_count": 16,
   "metadata": {},
   "outputs": [],
   "source": [
    "//using suffix array and original sequence we get BWT of that string\n",
    "function BWT_sfx_arr(sfx_arr,seq){\n",
    "    console.time();\n",
    "    var str ='';\n",
    "    for(var i=0;i<sfx_arr.length;i++){\n",
    "        if(sfx_arr[i] > 1){\n",
    "            str = str + seq[sfx_arr[i]-2];\n",
    "        }\n",
    "        else{\n",
    "            str = str + seq[seq.length-1];\n",
    "        }\n",
    "    }\n",
    "    console.timeEnd();\n",
    "    return(str)\n",
    "}"
   ]
  },
  {
   "cell_type": "code",
   "execution_count": 17,
   "metadata": {},
   "outputs": [
    {
     "name": "stdout",
     "output_type": "stream",
     "text": [
      "default: 0.029ms\n"
     ]
    },
    {
     "data": {
      "text/plain": [
       "'ANNB1AA'"
      ]
     },
     "execution_count": 17,
     "metadata": {},
     "output_type": "execute_result"
    }
   ],
   "source": [
    "bwt_sq = BWT_sfx_arr(sa,sq2)"
   ]
  },
  {
   "cell_type": "code",
   "execution_count": 34,
   "metadata": {},
   "outputs": [],
   "source": [
    "// count array or FM index stores the number of times symbol c occurs before index i \n",
    "function count_arr(last_col){\n",
    "    console.time();\n",
    "    var unq = [];\n",
    "    var cnt = 0;\n",
    "    var unq = [...new Set(last_col)];\n",
    "    unq = bub_sort(unq);\n",
    "    var cnt_arr = Array.from(Array(last_col.length+1), () => new Array(unq.length))\n",
    "   for(var j =0;j<unq.length;j++){\n",
    "        for(var i =1;i<cnt_arr.length;i++) {\n",
    "            if(unq[j]==last_col[i-1]){\n",
    "                cnt_arr[i][j]=cnt+1;\n",
    "                cnt = cnt+1;\n",
    "            }\n",
    "            else{\n",
    "                cnt_arr[i][j]=cnt;\n",
    "            }\n",
    "        }\n",
    "       cnt = 0;\n",
    "       cnt_arr[0][j]=0;\n",
    "    }\n",
    "    console.timeEnd();\n",
    "    return(cnt_arr)\n",
    "}"
   ]
  },
  {
   "cell_type": "code",
   "execution_count": 35,
   "metadata": {},
   "outputs": [
    {
     "name": "stdout",
     "output_type": "stream",
     "text": [
      "default: 0.012ms\n"
     ]
    },
    {
     "data": {
      "text/plain": [
       "[ [ 0, 0, 0, 0 ],\n",
       "  [ 0, 1, 0, 0 ],\n",
       "  [ 0, 1, 0, 1 ],\n",
       "  [ 0, 1, 0, 2 ],\n",
       "  [ 1, 1, 0, 2 ],\n",
       "  [ 1, 1, 1, 2 ],\n",
       "  [ 1, 2, 1, 2 ],\n",
       "  [ 1, 3, 1, 2 ] ]"
      ]
     },
     "execution_count": 35,
     "metadata": {},
     "output_type": "execute_result"
    },
    {
     "name": "stderr",
     "output_type": "stream",
     "text": [
      "(node:116752) Warning: No such label 'default' for console.timeEnd()\n"
     ]
    }
   ],
   "source": [
    "ca = count_arr(['A','N','N','1','B','A','A'])"
   ]
  },
  {
   "cell_type": "code",
   "execution_count": 36,
   "metadata": {},
   "outputs": [],
   "source": [
    "// counts the number of different symbols in original string\n",
    "function count (string) {\n",
    "    console.time();    \n",
    "  var count = {};\n",
    "  string.split('').forEach(s);\n",
    "    function s (s) {\n",
    "     count[s] ? count[s]++ : count[s] = 1;\n",
    "  }\n",
    "    console.timeEnd();\n",
    "  return count;\n",
    "}"
   ]
  },
  {
   "cell_type": "code",
   "execution_count": 37,
   "metadata": {},
   "outputs": [
    {
     "name": "stdout",
     "output_type": "stream",
     "text": [
      "default: 0.049ms\n"
     ]
    },
    {
     "data": {
      "text/plain": [
       "{ '1': 1, B: 1, A: 3, N: 2 }"
      ]
     },
     "execution_count": 37,
     "metadata": {},
     "output_type": "execute_result"
    }
   ],
   "source": [
    "count('1BANANA')"
   ]
  },
  {
   "cell_type": "code",
   "execution_count": 38,
   "metadata": {},
   "outputs": [],
   "source": [
    "// converts string containing duplicates into unique characters\n",
    "function str2unq(st){\n",
    "    console.time();\n",
    "    var s = [...st];\n",
    "    var cc = count(st)\n",
    "    var n = Object.keys(cc).length;\n",
    "    var x = [];\n",
    "    var y = [];\n",
    "    for(var i =0;i<s.length;i++){\n",
    "        if(cc[s[i]]>1){\n",
    "            for(var k=1;k<=cc[s[i]];k++){\n",
    "             x.push(s[i]+k);\n",
    "        }\n",
    "        }\n",
    "        else{\n",
    "            s[i]=s[i]+'1'\n",
    "            x.push(s[i]);\n",
    "        }\n",
    "    }\n",
    "    x_unq = [...new Set(x)];\n",
    "    x = bub_sort(x_unq);\n",
    "    console.timeEnd();\n",
    "    return(x);\n",
    "}"
   ]
  },
  {
   "cell_type": "code",
   "execution_count": 39,
   "metadata": {},
   "outputs": [
    {
     "name": "stdout",
     "output_type": "stream",
     "text": [
      "default: 0.022ms\n",
      "default: 0.018ms\n"
     ]
    },
    {
     "data": {
      "text/plain": [
       "[ '11', 'A1', 'A2', 'A3', 'B1', 'N1', 'N2' ]"
      ]
     },
     "execution_count": 39,
     "metadata": {},
     "output_type": "execute_result"
    },
    {
     "name": "stderr",
     "output_type": "stream",
     "text": [
      "(node:116752) Warning: No such label 'default' for console.timeEnd()\n"
     ]
    }
   ],
   "source": [
    "s=str2unq('ANNB1AA')\n",
    "s"
   ]
  },
  {
   "cell_type": "code",
   "execution_count": 40,
   "metadata": {},
   "outputs": [
    {
     "data": {
      "text/plain": [
       "5"
      ]
     },
     "execution_count": 40,
     "metadata": {},
     "output_type": "execute_result"
    }
   ],
   "source": [
    "var p =['1','A','A','A','B','N','N']\n",
    "p.indexOf('N')"
   ]
  },
  {
   "cell_type": "code",
   "execution_count": 41,
   "metadata": {},
   "outputs": [],
   "source": [
    "// O[c] stores the index of the first suffix starting with symbol c \n",
    "function offset(Lc){\n",
    "    console.time();\n",
    "    var O =[];\n",
    "    var st = bub_sort(Lc);\n",
    "    for(var i=0;i<st.length;i++){\n",
    "        O.push(st.indexOf(st[i]));      \n",
    "                   }\n",
    "    ofst = [...new Set(O)];\n",
    "    console.timeEnd();\n",
    "    return(ofst);\n",
    "}"
   ]
  },
  {
   "cell_type": "code",
   "execution_count": 42,
   "metadata": {},
   "outputs": [
    {
     "name": "stdout",
     "output_type": "stream",
     "text": [
      "default: 0.016ms\n"
     ]
    },
    {
     "data": {
      "text/plain": [
       "[ 0, 1, 4, 5 ]"
      ]
     },
     "execution_count": 42,
     "metadata": {},
     "output_type": "execute_result"
    },
    {
     "name": "stderr",
     "output_type": "stream",
     "text": [
      "(node:116752) Warning: No such label 'default' for console.timeEnd()\n"
     ]
    }
   ],
   "source": [
    "offset(['A','N','N','1','B','A','A'])"
   ]
  },
  {
   "cell_type": "code",
   "execution_count": 43,
   "metadata": {},
   "outputs": [
    {
     "name": "stdout",
     "output_type": "stream",
     "text": [
      "default: 0.018ms\n"
     ]
    },
    {
     "data": {
      "text/plain": [
       "[ '1', 'A', 'A', 'A', 'B', 'N', 'N' ]"
      ]
     },
     "execution_count": 43,
     "metadata": {},
     "output_type": "execute_result"
    }
   ],
   "source": [
    "bub_sort(['A','N','N','1','B','A','A']) //1 A B N"
   ]
  },
  {
   "cell_type": "code",
   "execution_count": 44,
   "metadata": {},
   "outputs": [],
   "source": [
    "// finds position of k-mers in the given string \n",
    "function ExactMatch(p,last_col){\n",
    "    console.time();\n",
    "    var F = count_arr(last_col);\n",
    "    var O = offset(last_col);\n",
    "    var lo = 0;\n",
    "    var hi = F.length-1;\n",
    "    var idx = bub_sort([...new Set(last_col)]);\n",
    "    var q = [...p].reverse().join(\"\");\n",
    "    for(var i=0;i<q.length;i++){\n",
    "       var id = idx.indexOf(q[i]);\n",
    "        lo = O[id] + F[lo][id];\n",
    "        hi = O[id] + F[hi][id];\n",
    "        //console.log([lo,hi])\n",
    "    }\n",
    "    console.timeEnd();\n",
    "    return([lo,hi]);\n",
    "    \n",
    "}"
   ]
  },
  {
   "cell_type": "code",
   "execution_count": 45,
   "metadata": {},
   "outputs": [
    {
     "name": "stdout",
     "output_type": "stream",
     "text": [
      "default: 0.013ms\n",
      "default: 0.020ms\n",
      "default: 0.012ms\n"
     ]
    },
    {
     "data": {
      "text/plain": [
       "[ 5, 7 ]"
      ]
     },
     "execution_count": 45,
     "metadata": {},
     "output_type": "execute_result"
    },
    {
     "name": "stderr",
     "output_type": "stream",
     "text": [
      "(node:116752) Warning: No such label 'default' for console.timeEnd()\n",
      "(node:116752) Warning: No such label 'default' for console.timeEnd()\n",
      "(node:116752) Warning: No such label 'default' for console.timeEnd()\n"
     ]
    }
   ],
   "source": [
    "//'ACG',['A','C','G','1','C','A','A','A','G','C']\n",
    "ExactMatch('NA',['A','N','N','1','B','A','A'])"
   ]
  },
  {
   "cell_type": "code",
   "execution_count": 46,
   "metadata": {},
   "outputs": [],
   "source": [
    "// one of the application of BWT string is compression \n",
    "// last column of BWT matrix serves as the least entropy string used in compression\n",
    "function compress_string(str){\n",
    "    console.time();\n",
    "var c_str = \"\";\n",
    "var i = 0;\n",
    "    while(i<str.length){\n",
    "        var count = 1;\n",
    "        var ch = str[i];\n",
    "        var j = i;\n",
    "        while(j<str.length){\n",
    "            if(str[j]==str[j+1]){\n",
    "                count = count + 1;\n",
    "            j=j+1;\n",
    "            }\n",
    "            else\n",
    "                break\n",
    "        }\n",
    "        c_str = c_str + ch + count;\n",
    "        i = j+1;\n",
    "    }\n",
    "    console.timeEnd();\n",
    "    return(c_str);\n",
    "}"
   ]
  },
  {
   "cell_type": "code",
   "execution_count": 47,
   "metadata": {},
   "outputs": [
    {
     "name": "stdout",
     "output_type": "stream",
     "text": [
      "default: 0.035ms\n",
      "default: 0.007ms\n",
      "default: 0.006ms\n",
      "default: 0.006ms\n",
      "default: 0.006ms\n",
      "default: 0.006ms\n",
      "default: 0.006ms\n",
      "default: 0.007ms\n",
      "default: 0.006ms\n",
      "default: 0.006ms\n",
      "default: 0.006ms\n",
      "default: 0.006ms\n",
      "default: 0.006ms\n",
      "default: 0.005ms\n",
      "default: 0.017ms\n",
      "caatqaccapwgp\n",
      "default: 0.047ms\n"
     ]
    },
    {
     "data": {
      "text/plain": [
       "'c1a2t1q1a1c2a1p1w1g1p1'"
      ]
     },
     "execution_count": 47,
     "metadata": {},
     "output_type": "execute_result"
    },
    {
     "name": "stderr",
     "output_type": "stream",
     "text": [
      "(node:116752) Warning: No such label 'default' for console.timeEnd()\n"
     ]
    }
   ],
   "source": [
    "var str = \"caaaccgtappwq\";\n",
    "sa2 = suffix_array(str);\n",
    "bwt_sq2 = BWT_sfx_arr(sa2,str)\n",
    "console.log(bwt_sq2)\n",
    "compress_string(bwt_sq2)"
   ]
  },
  {
   "cell_type": "code",
   "execution_count": 48,
   "metadata": {},
   "outputs": [],
   "source": [
    "// expansion of string\n",
    "function expand_string(str){\n",
    "    console.time();\n",
    "    var dcomp = \"\";\n",
    "    str = str + \"j\";\n",
    "    var s = \"\";\n",
    "    for(var i=0;i<str.length;i++){\n",
    "        if(str[i].localeCompare(str[i+1])==-1){\n",
    "            n = parseInt(str[i]);\n",
    "        for(var j=0;j<n;j++){\n",
    "            s = s+ str[i-1]\n",
    "        }\n",
    "        }\n",
    "            \n",
    "    }\n",
    "    dcomp = dcomp+s;\n",
    "    console.timeEnd();\n",
    "    return(dcomp)\n",
    "}"
   ]
  },
  {
   "cell_type": "code",
   "execution_count": 49,
   "metadata": {},
   "outputs": [
    {
     "name": "stdout",
     "output_type": "stream",
     "text": [
      "default: 0.067ms\n"
     ]
    },
    {
     "data": {
      "text/plain": [
       "'pppppqwwrrr'"
      ]
     },
     "execution_count": 49,
     "metadata": {},
     "output_type": "execute_result"
    }
   ],
   "source": [
    "expand_string(\"p5q1w2r3\")"
   ]
  },
  {
   "cell_type": "code",
   "execution_count": null,
   "metadata": {},
   "outputs": [],
   "source": []
  },
  {
   "cell_type": "code",
   "execution_count": null,
   "metadata": {},
   "outputs": [],
   "source": []
  }
 ],
 "metadata": {
  "kernelspec": {
   "display_name": "Javascript (Node.js)",
   "language": "javascript",
   "name": "javascript"
  },
  "language_info": {
   "file_extension": ".js",
   "mimetype": "application/javascript",
   "name": "javascript",
   "version": "10.13.0"
  }
 },
 "nbformat": 4,
 "nbformat_minor": 2
}
